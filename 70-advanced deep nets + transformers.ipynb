{
 "cells": [
  {
   "cell_type": "markdown",
   "metadata": {},
   "source": []
  },
  {
   "cell_type": "markdown",
   "metadata": {},
   "source": [
    "LINKS:\n",
    "\n",
    "https://learn.deeplearning.ai/courses/how-transformer-llms-work/lesson/nfshb/introduction?utm_campaign=Short%20Course%20Announcements\n"
   ]
  }
 ],
 "metadata": {
  "language_info": {
   "name": "python"
  }
 },
 "nbformat": 4,
 "nbformat_minor": 2
}
