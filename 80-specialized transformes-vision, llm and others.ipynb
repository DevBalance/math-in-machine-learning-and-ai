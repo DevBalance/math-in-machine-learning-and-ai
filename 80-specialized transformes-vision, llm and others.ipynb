{
 "cells": [
  {
   "cell_type": "markdown",
   "metadata": {},
   "source": []
  },
  {
   "cell_type": "markdown",
   "metadata": {},
   "source": [
    "LINKS:\n",
    "\n",
    "https://learn.deeplearning.ai/courses/getting-structured-llm-output/lesson/cat89/introduction?utm_campaign=Short%20Course%20Announcements"
   ]
  }
 ],
 "metadata": {
  "language_info": {
   "name": "python"
  }
 },
 "nbformat": 4,
 "nbformat_minor": 2
}
