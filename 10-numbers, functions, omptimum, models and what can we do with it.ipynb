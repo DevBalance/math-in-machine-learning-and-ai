{
 "cells": [
  {
   "cell_type": "markdown",
   "metadata": {},
   "source": [
    "# Numbers, functions, omptimum, models and what can we do with it\n",
    "# Čísla, funkce, optima, modely a co s tím můžeme dělat"
   ]
  },
  {
   "cell_type": "markdown",
   "metadata": {},
   "source": [
    "## Numbers\n",
    "## Čísla\n",
    "Čísla používáme pro reprezentaci reality. Někdy je výhodné používat jen `0` (`FALSE`) nebo `1` (`TRUE`), třeba pro zachycení informace *má rád country?* (já mám `FALSE`). Někdy použijeme přirozená čísla (`1`, `2`, `3`, ...), například pro zachycení informace *?* (já mám `2`)\n",
    "\n"
   ]
  },
  {
   "cell_type": "markdown",
   "metadata": {
    "vscode": {
     "languageId": "markdown"
    }
   },
   "source": [
    "| Title                | Example        | Description/Explanation                   | Comments                               |\n",
    "|----------------------|----------------|-------------------------------------------|----------------------------------------|\n",
    "| Boolean              | TRUE           | **General:** Represents a binary state, e.g., up/down regime. **Why do we use it:** Simplifies decision-making processes. **Why it is used in data representation:** Efficient for logical operations and binary classification tasks. | Used in logical operations             |\n",
    "| Positive Real Number | 5.67           | **General:** Assigns a weight to an object. **Why do we use it:** Essential for quantifying physical properties. **Why it is used in data representation:** Facilitates measurements and calculations in scientific and engineering contexts. | Used in measurements and calculations  |\n",
    "| 3-D Vector           | [1, 2, 3]      | **General:** Represents a vertex in space. **Why do we use it:** Crucial for modeling spatial relationships. **Why it is used in data representation:** Enables geometric computations and graphical representations. | Used in geometry and graphics          |\n",
    "| String               | Hello, World!  | **General:** Represents textual data. **Why do we use it:** Fundamental for communication and data storage. **Why it is used in data representation:** Allows for the storage and manipulation of text-based information. | Used in communication and data storage |\n",
    "| Image                | image.png      | **General:** Represents visual data. **Why do we use it:** Vital for visual recognition and interpretation. **Why it is used in data representation:** Supports computer vision and graphical applications. | Used in computer vision and graphics   |\n",
    "| Negative Real Number | -3.14          | **General:** Represents a value less than zero. **Why do we use it:** Important for contexts like temperature and finance (debt). **Why it is used in data representation:** Useful for modeling scenarios involving deficits or losses. | Used in contexts like temperature, finance (debt) |\n",
    "| Natural Number       | 42             | **General:** Represents a non-negative integer. **Why do we use it:** Essential for counting and ordering. **Why it is used in data representation:** Facilitates discrete data representation and indexing. | Used for counting and ordering           |\n",
    "| Rational Number      | 3/4            | **General:** Represents a fraction of two integers. **Why do we use it:** Allows for precise measurements and ratios. **Why it is used in data representation:** Useful in scenarios requiring exact fractional values. | Used in precise measurements and ratios  |\n",
    "| Irrational Number    | π (pi)         | **General:** Represents a non-repeating, non-terminating decimal. **Why do we use it:** Crucial for geometry and trigonometry. **Why it is used in data representation:** Enables accurate modeling of circular and periodic phenomena. | Used in geometry and trigonometry        |\n",
    "| Complex Number       | 2 + 3i         | **General:** Represents a number with real and imaginary parts. **Why do we use it:** Important for advanced mathematics and engineering. **Why it is used in data representation:** Facilitates the analysis of oscillatory and wave phenomena. | Used in advanced mathematics and engineering |"
   ]
  },
  {
   "cell_type": "code",
   "execution_count": null,
   "metadata": {},
   "outputs": [],
   "source": []
  }
 ],
 "metadata": {
  "kernelspec": {
   "display_name": "math_ai",
   "language": "python",
   "name": "python3"
  },
  "language_info": {
   "codemirror_mode": {
    "name": "ipython",
    "version": 3
   },
   "file_extension": ".py",
   "mimetype": "text/x-python",
   "name": "python",
   "nbconvert_exporter": "python",
   "pygments_lexer": "ipython3",
   "version": "3.11.11"
  }
 },
 "nbformat": 4,
 "nbformat_minor": 2
}
